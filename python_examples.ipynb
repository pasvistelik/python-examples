{
 "cells": [
  {
   "cell_type": "code",
   "execution_count": null,
   "metadata": {
    "collapsed": true
   },
   "outputs": [],
   "source": []
  },
  {
   "cell_type": "code",
   "execution_count": 3,
   "metadata": {
    "collapsed": false
   },
   "outputs": [
    {
     "name": "stdout",
     "output_type": "stream",
     "text": [
      "exception\n",
      "text\n",
      "\n",
      "a = 1\n",
      "b = 2\n",
      "args = (3, 4, 5)\n",
      "kwargs = {'tmp': 6, 'c': 7}\n"
     ]
    }
   ],
   "source": [
    "# №5 - Исключения. Функции. Передача параметров в функции. Примеры\n",
    "try:\n",
    "    raise Error(\"ошибка\") # вызов исключения\n",
    "except:\n",
    "    print(\"exception\") # выполнится при возникновении исключения\n",
    "finally:\n",
    "    print(\"text\") # выполнится в любом случае\n",
    "    \n",
    "# объявление функции:\n",
    "def my_function(a,b=0,*args,**kwargs):\n",
    "    # *args - неименованные параметры\n",
    "    # **kwargs - именованные параметры\n",
    "    print(\"\\na =\",a)\n",
    "    print(\"b =\",b)\n",
    "    print(\"args =\",args)\n",
    "    print(\"kwargs =\",kwargs)\n",
    "    return None\n",
    "my_function(1,2,3,4,5,tmp=6,c=7) # вызов функции"
   ]
  },
  {
   "cell_type": "code",
   "execution_count": 166,
   "metadata": {
    "collapsed": true
   },
   "outputs": [],
   "source": [
    "# №6 - рекурсия - пример\n",
    "def factorial(n): return 1 if n == 0 else n * factorial(n-1)"
   ]
  },
  {
   "cell_type": "code",
   "execution_count": 87,
   "metadata": {
    "collapsed": false
   },
   "outputs": [
    {
     "name": "stdout",
     "output_type": "stream",
     "text": [
      "[1, 2, 3, 4, 5, 6, 7, 8, 9, 'a']\n",
      "1\n",
      "[1, 2, 3]\n",
      "[4]\n",
      "[4, 6, 8, 'a']\n",
      "[1, 2]\n",
      "[1, 1, 1, 1, 1]\n"
     ]
    }
   ],
   "source": [
    "# №7,10. Структуры данных. Списки\n",
    "############################## СПИСКИ ##############################\n",
    "my_list = [1,2,3,4,5,6,7,8,9,'a']\n",
    "print(my_list)\n",
    "print(my_list[0])\n",
    "\n",
    "# срезы\n",
    "print(my_list[:3])\n",
    "print(my_list[3:4])\n",
    "print(my_list[3::2]) # срез с шагом 2\n",
    "\n",
    "# преобразование в список\n",
    "x = list(range(1,4)) # [1,2,3]\n",
    "\n",
    "# генератор\n",
    "y = [i**2 for i in x] # [1,4,9]\n",
    "\n",
    "print([1]+[2]) # [1,2]\n",
    "print([1] * 5) # [1,1,1,1,1]"
   ]
  },
  {
   "cell_type": "code",
   "execution_count": 101,
   "metadata": {
    "collapsed": false
   },
   "outputs": [
    {
     "name": "stdout",
     "output_type": "stream",
     "text": [
      "(1, 2, 3, 4, 5, 6, 7, 8, 9, 'a')\n",
      "1\n",
      "(1, 2, 3)\n",
      "(4,)\n",
      "(4, 6, 8, 'a')\n",
      "(1, 2, 3)\n",
      "(1, 2, 1, 2, 1, 2, 1, 2, 1, 2)\n"
     ]
    }
   ],
   "source": [
    "# №8, 10. Структуры данных. Кортежи и словари.\n",
    "############################## КОРТЕЖИ ##############################\n",
    "# кортеж(tuple) - неизменяемый список\n",
    "\n",
    "my_tuple = (1,2,3,4,5,6,7,8,9,'a')\n",
    "print(my_tuple)\n",
    "print(my_tuple[0])\n",
    "\n",
    "# срезы\n",
    "print(my_tuple[:3])\n",
    "print(my_tuple[3:4])\n",
    "print(my_tuple[3::2]) # срез с шагом 2\n",
    "\n",
    "# преобразование в кортеж\n",
    "x = tuple(range(1,4)) # (1,2,3)\n",
    "print(x)\n",
    "\n",
    "print((1,2) * 5) # (1, 2, 1, 2, 1, 2, 1, 2, 1, 2)"
   ]
  },
  {
   "cell_type": "code",
   "execution_count": 89,
   "metadata": {
    "collapsed": false
   },
   "outputs": [
    {
     "name": "stdout",
     "output_type": "stream",
     "text": [
      "value1\n",
      "value2\n",
      "value4\n",
      "text\n",
      "{'key1': 'value1', 1: 'value2', (1, 2): 'value4', 123: 'text'}\n",
      "{0: 'a', 1: 'b'}\n",
      "dict_keys(['key1', 1, (1, 2), 123])\n",
      "dict_values(['value1', 'value2', 'value4', 'text'])\n"
     ]
    }
   ],
   "source": [
    "# №8, 10. Структуры данных. Кортежи и словари.\n",
    "############################## СЛОВАРИ ##############################\n",
    "# словарь(dict) - структура, хранящая данные в формате КЛЮЧ:ЗНАЧЕНИЕ\n",
    "# ключем может быть строка('a',\"b\"), число(1, 3.14, 1+2j), кортеж((1,2))\n",
    "# значением может быть что угодно\n",
    "my_dict = {'key1':'value1', 1:'value2', \"key3\":[1,2,3], (1,2):'value4'}\n",
    "\n",
    "# примеры получения значения по ключу:\n",
    "print(my_dict[\"key1\"])\n",
    "print(my_dict[1])\n",
    "print(my_dict[(1,2)])\n",
    "\n",
    "# добавление:\n",
    "my_dict[123] = \"text\"\n",
    "print(my_dict[123])\n",
    "\n",
    "# удаление:\n",
    "del my_dict[\"key3\"]\n",
    "print(my_dict)\n",
    "\n",
    "# преобразование в словарь:\n",
    "print(dict(zip([0,1],['a','b'])))\n",
    "\n",
    "print(my_dict.keys()) # все ключи\n",
    "print(my_dict.values()) # все значения\n",
    "\n"
   ]
  },
  {
   "cell_type": "code",
   "execution_count": 90,
   "metadata": {
    "collapsed": false
   },
   "outputs": [
    {
     "name": "stdout",
     "output_type": "stream",
     "text": [
      "True\n",
      "{1, 2, 3}\n",
      "{2}\n",
      "{1}\n",
      "{1, 3}\n",
      "{'a', 1, 2}\n",
      "{'a', 1, 2}\n"
     ]
    }
   ],
   "source": [
    "# №9, 10. Структуры данных. Множества\n",
    "############################## МНОЖЕСТВА ##############################\n",
    "# множество(set) - структура, хранящая уникальные значения\n",
    "my_set = {1,2,'text'}\n",
    "print({1,1} == {1}) # True\n",
    "print({1,2} | {2,3}) # объединение множеств\n",
    "print({1,2} & {2,3}) # пересечение множеств\n",
    "print({1,2} - {2,3}) # вычитание множеств\n",
    "print({1,2} ^ {2,3}) \n",
    "\n",
    "# преобразование в множество:\n",
    "print(set([1,1,2,'a'])) \n",
    "print(set((1,1,2,'a'))) "
   ]
  },
  {
   "cell_type": "code",
   "execution_count": 53,
   "metadata": {
    "collapsed": false
   },
   "outputs": [
    {
     "name": "stdout",
     "output_type": "stream",
     "text": [
      "5\n",
      "круг1\n",
      "6\n",
      "113.09733552923255\n",
      "113.09733552923255\n"
     ]
    }
   ],
   "source": [
    "# №11-13. Классы, объекты. Наследование, инкапсуляция, полиморфизм. Декораторы\n",
    "import math\n",
    "\n",
    "class Figure:\n",
    "    def __init__(self, name):\n",
    "        self.name = name\n",
    "    \n",
    "    @staticmethod # декоратор, объявление статического метода\n",
    "    def get_square(obj):\n",
    "        return obj.square\n",
    "\n",
    "# пример наследования - класс Circle наследует от Figure\n",
    "class Circle(Figure): \n",
    "    \n",
    "    # пример полиморфизма - мы переопределяем поведение конструктора\n",
    "    def __init__(self, radius, name):\n",
    "        super().__init__(name)\n",
    "        self._radius = radius\n",
    "        \n",
    "    @property\n",
    "    def square(self):\n",
    "        return math.pi * self._radius**2\n",
    "        \n",
    "    # пример инкапсуляции\n",
    "    @property # декоратор, create getter\n",
    "    def radius(self):\n",
    "        return self._radius\n",
    "    @radius.setter # декоратор, create setter\n",
    "    def radius(self, value):\n",
    "        self._radius = value\n",
    "\n",
    "# создание объектов (экземпляров класса)\n",
    "c1 = Circle(5, 'круг1')\n",
    "c2 = Circle(125, 'круг2')\n",
    "\n",
    "print(c1.radius)\n",
    "print(c1.name)\n",
    "c1.radius = 6\n",
    "print(c1.radius)\n",
    "print(c1.square)\n",
    "print(Figure.get_square(c1))"
   ]
  },
  {
   "cell_type": "code",
   "execution_count": 165,
   "metadata": {
    "collapsed": false
   },
   "outputs": [
    {
     "data": {
      "text/html": [
       "<div>\n",
       "<table border=\"1\" class=\"dataframe\">\n",
       "  <thead>\n",
       "    <tr style=\"text-align: right;\">\n",
       "      <th></th>\n",
       "      <th>Number</th>\n",
       "      <th>Type</th>\n",
       "    </tr>\n",
       "  </thead>\n",
       "  <tbody>\n",
       "    <tr>\n",
       "      <th>0</th>\n",
       "      <td>8</td>\n",
       "      <td>bus</td>\n",
       "    </tr>\n",
       "    <tr>\n",
       "      <th>1</th>\n",
       "      <td>15</td>\n",
       "      <td>bus</td>\n",
       "    </tr>\n",
       "  </tbody>\n",
       "</table>\n",
       "</div>"
      ],
      "text/plain": [
       "   Number Type\n",
       "0       8  bus\n",
       "1      15  bus"
      ]
     },
     "execution_count": 165,
     "metadata": {},
     "output_type": "execute_result"
    }
   ],
   "source": [
    "# №14 - pandas - пример\n",
    "import pandas as pd\n",
    "df = pd.DataFrame({'Type':['bus', 'bus', 'trolleybus'], 'Number':[8, 15, 9]})\n",
    "# или читаем из файла: df = pd.read_csv(\"имя_файла\")\n",
    "df['Name'] = None # добавляем новый столбец\n",
    "df.drop('Name', axis=1, inplace=True) # а теперь удаляем\n",
    "df[df.Type == 'bus'] # выбираем только автобусы"
   ]
  },
  {
   "cell_type": "code",
   "execution_count": 136,
   "metadata": {
    "collapsed": false
   },
   "outputs": [
    {
     "data": {
      "text/plain": [
       "array([[ 1.],\n",
       "       [-1.]])"
      ]
     },
     "execution_count": 136,
     "metadata": {},
     "output_type": "execute_result"
    }
   ],
   "source": [
    "# №15 - scipy - пример\n",
    "from scipy import linalg\n",
    "\n",
    "# решим систему уравнений Ax=B\n",
    "# x1 + x2 = 0\n",
    "# 2*x1 - x2 = 3\n",
    "\n",
    "a = [[1,1],[2,-1]]\n",
    "b = [[0],[3]]\n",
    "linalg.solve(a,b)"
   ]
  },
  {
   "cell_type": "code",
   "execution_count": 88,
   "metadata": {
    "collapsed": false
   },
   "outputs": [],
   "source": [
    "# №16 - numpy - пример\n",
    "import numpy as np\n",
    "x = np.array([[1,2,3,4], [1,2,3,4]])\n",
    "y = x**2 # возвести все элементы в квадрат\n",
    "z = np.dot(x, y.T) # перемножить матрицы"
   ]
  },
  {
   "cell_type": "code",
   "execution_count": 49,
   "metadata": {
    "collapsed": false
   },
   "outputs": [
    {
     "data": {
      "image/png": "[encoded data removed]",
      "text/plain": [
       "<matplotlib.figure.Figure at 0xc9b6ed82e8>"
      ]
     },
     "metadata": {},
     "output_type": "display_data"
    }
   ],
   "source": [
    "# №17 - matplotlib - пример\n",
    "import matplotlib.pyplot as plt\n",
    "plt.plot([0,1,2], [0,1,4]) # передаем X, Y\n",
    "plt.show() # рисуем"
   ]
  },
  {
   "cell_type": "code",
   "execution_count": 137,
   "metadata": {
    "collapsed": false
   },
   "outputs": [
    {
     "data": {
      "image/png": "[encoded data removed]",
      "text/plain": [
       "<matplotlib.figure.Figure at 0xc9b74a8e80>"
      ]
     },
     "metadata": {},
     "output_type": "display_data"
    }
   ],
   "source": [
    "# №18 - scikit-learn - пример\n",
    "from sklearn.linear_model import Perceptron\n",
    "model = Perceptron()\n",
    "x=[[1,-1],[2,-1],[3,-1],[1,1],[2,1],[3,1]]\n",
    "y=[-1,-1,-1,1,1,1]\n",
    "model.fit(x, y) # обучаем персептрон\n",
    "# а теперь классифицируем точки\n",
    "model.predict([[2,-2],[2,2]])\n",
    "\n",
    "\n",
    "# А тут просто выводим картинку для наглядности:\n",
    "plt.plot([a for a,_ in x[:3]], [b for _,b in x[:3]], \"bo\")\n",
    "plt.plot([a for a,_ in x[3:]], [b for _,b in x[3:]], \"ro\")\n",
    "plt.plot([2,2], [-2,2], \"go\") # на \"зеленых\" тестируем\n",
    "plt.show() # рисуем"
   ]
  },
  {
   "cell_type": "code",
   "execution_count": 64,
   "metadata": {
    "collapsed": false
   },
   "outputs": [
    {
     "name": "stdout",
     "output_type": "stream",
     "text": [
      "1\n",
      "2\n",
      "2\n"
     ]
    }
   ],
   "source": [
    "# №19 - поиск максимального/минимального значения\n",
    "# встроенные функции:\n",
    "print(min([1,2]))\n",
    "print(max([1,2]))\n",
    "\n",
    "def find_max(arr):\n",
    "    if len(arr) == 0: raise ValueError(\"Array is empty!\")\n",
    "    max_item = arr[0]\n",
    "    for item in arr[1:]:\n",
    "        if item > max_item:\n",
    "            max_item = item\n",
    "    return max_item\n",
    "\n",
    "print(find_max([1,2]))"
   ]
  },
  {
   "cell_type": "code",
   "execution_count": 3,
   "metadata": {
    "collapsed": false
   },
   "outputs": [
    {
     "name": "stdout",
     "output_type": "stream",
     "text": [
      "Wall time: 5.81 s\n",
      "Wall time: 0 ns\n"
     ]
    },
    {
     "data": {
      "text/plain": [
       "90000000"
      ]
     },
     "execution_count": 3,
     "metadata": {},
     "output_type": "execute_result"
    }
   ],
   "source": [
    "# №20 - линейный и бинарный поиск\n",
    "     \n",
    "# в массиве arr ищем индекс значения item\n",
    "def linear_find_index(arr, item):\n",
    "    # проходим по всем парам \"значение и его индекс в массиве\"\n",
    "    for element, index in enumerate(arr):\n",
    "        if element == item: return index # если нашли совпадение - возвращаем индекс\n",
    "    return None # иначе возвращаем None\n",
    "\n",
    "# Бинарный поиск: Имеется ОТСОРТИРОВАННЫЙ массив. \n",
    "def binary_find_index(arr, item):\n",
    "    # левая и правая границы поиска.\n",
    "    a, b = 0, len(arr)-1\n",
    "    while True:\n",
    "        # На каждом шаге \"разбиваем\" область поиска на 2 части.\n",
    "        k = (b + a) // 2 # находим середину\n",
    "        if arr[k] == item: return k # если нашли совпадение - возвращаем индекс\n",
    "        \n",
    "        # если вдруг оказалось, что a==b, то значит элемента нет в массиве.\n",
    "        if a == b: return None \n",
    "        \n",
    "        # Если значение \"среднего\" элемента больше, чем то, что мы ищем, \n",
    "        # то и все последующие будут больше и там нет смысла искать.\n",
    "        # Поэтому \"сдвигаем\" правую границу до k индекса: \n",
    "        elif arr[k] > item: b=k \n",
    "        \n",
    "        # Аналогично, если значение \"среднего\" элемента меньше, чем то, что мы ищем,\n",
    "        # то и все предшествующие будут меньше и там тоже нет смысла искать.\n",
    "        # Поэтому \"сдвигаем\" левую границу до k+1 индекса: \n",
    "        else: a = k+1\n",
    "\n",
    "arr = list(range(100000000))\n",
    "# Поиск за O(n):\n",
    "%time linear_find_index(arr, 90000000)\n",
    "# Поиск за O(log(n)):\n",
    "%time binary_find_index(arr, 90000000)"
   ]
  },
  {
   "cell_type": "code",
   "execution_count": null,
   "metadata": {
    "collapsed": true
   },
   "outputs": [],
   "source": []
  }
 ],
 "metadata": {
  "kernelspec": {
   "display_name": "Python 3",
   "language": "python",
   "name": "python3"
  },
  "language_info": {
   "codemirror_mode": {
    "name": "ipython",
    "version": 3
   },
   "file_extension": ".py",
   "mimetype": "text/x-python",
   "name": "python",
   "nbconvert_exporter": "python",
   "pygments_lexer": "ipython3",
   "version": "3.6.0"
  }
 },
 "nbformat": 4,
 "nbformat_minor": 2
}
